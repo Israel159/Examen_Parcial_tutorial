{
  "nbformat": 4,
  "nbformat_minor": 0,
  "metadata": {
    "colab": {
      "provenance": []
    },
    "kernelspec": {
      "name": "python3",
      "display_name": "Python 3"
    },
    "language_info": {
      "name": "python"
    }
  },
  "cells": [
    {
      "cell_type": "markdown",
      "source": [
        "# Introducción a Expresiones Regulares en Python con Jupyter Notebook"
      ],
      "metadata": {
        "id": "K60roTY4O2SE"
      }
    },
    {
      "cell_type": "markdown",
      "source": [
        " ¿Qué son las expresiones regulares?\n",
        " Las expresiones regulares (regex) son patrones de búsqueda utilizados para coincidir con cadenas de texto.\n",
        " Son extremadamente poderosas para buscar, validar y manipular texto en Python y otros lenguajes.\n",
        "\n",
        " ¿Por qué usar expresiones regulares?\n",
        " - Búsqueda y filtrado eficiente de patrones en grandes cantidades de texto.\n",
        " - Validación de formatos de cadenas.\n",
        " - Manipulación avanzada de texto.\n",
        "\n",
        " Ejemplos de casos de uso:\n",
        " - Validar direcciones de correo electrónico.\n",
        " - Buscar y reemplazar patrones específicos en un documento.\n",
        " - Extraer información de datos estructurados.\n",
        "\n"
      ],
      "metadata": {
        "id": "u8h2SoJTijm3"
      }
    },
    {
      "cell_type": "markdown",
      "source": [
        " Sintaxis Básica de Expresiones Regulares\n",
        "\n",
        " En las expresiones regulares, algunos caracteres tienen significados especiales:\n",
        " - . (punto): Coincide con cualquier carácter excepto nueva línea.\n",
        " - ^: Coincide con el inicio de la cadena.\n",
        " - $: Coincide con el final de la cadena.\n",
        " - \\d: Coincide con cualquier dígito (equivalente a [0-9]).\n",
        " - \\w: Coincide con cualquier carácter alfanumérico (equivalente a [a-zA-Z0-9]).\n",
        "\n",
        " Ejemplo:\n",
        " - El patrón \\d{3} coincidirá con tres dígitos consecutivos.\n"
      ],
      "metadata": {
        "id": "pkyJNJ8qjW1R"
      }
    },
    {
      "cell_type": "markdown",
      "source": [
        "## Busqueda simple"
      ],
      "metadata": {
        "id": "p1yTTATYjq1W"
      }
    },
    {
      "cell_type": "code",
      "source": [
        "# Búsqueda Simple con Expresiones Regulares\n",
        "\n",
        "import re\n",
        "\n",
        "# Texto de ejemplo\n",
        "texto = \"La temperatura actual es 25°C.\"\n",
        "\n",
        "# Buscar un número en el texto\n",
        "patron_numero = re.search(r'\\d+', texto)\n",
        "\n",
        "if patron_numero:\n",
        "    numero_encontrado = patron_numero.group()\n",
        "    print(f\"Número encontrado: {numero_encontrado}\")\n",
        "else:\n",
        "    print(\"No se encontró ningún número.\")\n"
      ],
      "metadata": {
        "colab": {
          "base_uri": "https://localhost:8080/"
        },
        "id": "4bzgiPZ0jrQP",
        "outputId": "f869680b-468d-47e2-ae6f-7a2bd5d37855"
      },
      "execution_count": 19,
      "outputs": [
        {
          "output_type": "stream",
          "name": "stdout",
          "text": [
            "Número encontrado: 25\n"
          ]
        }
      ]
    },
    {
      "cell_type": "markdown",
      "source": [
        "## Coincidencias multiples"
      ],
      "metadata": {
        "id": "vnG12ajjkJyU"
      }
    },
    {
      "cell_type": "code",
      "source": [
        "# Coincidencias Múltiples con Expresiones Regulares\n",
        "\n",
        "# Texto de ejemplo\n",
        "texto = \"Los números en el conjunto son: 123, 456, 789.\"\n",
        "\n",
        "# Buscar todos los números en el texto\n",
        "patron_numeros = re.findall(r'\\d+', texto)\n",
        "\n",
        "if patron_numeros:\n",
        "    print(f\"Números encontrados: {patron_numeros}\")\n",
        "else:\n",
        "    print(\"No se encontraron números.\")\n"
      ],
      "metadata": {
        "colab": {
          "base_uri": "https://localhost:8080/"
        },
        "id": "ueXnt0s7kN8N",
        "outputId": "3aba1fc5-a422-49a3-e4b1-e9eae4f123cd"
      },
      "execution_count": 20,
      "outputs": [
        {
          "output_type": "stream",
          "name": "stdout",
          "text": [
            "Números encontrados: ['123', '456', '789']\n"
          ]
        }
      ]
    },
    {
      "cell_type": "markdown",
      "source": [
        "# reemplazo en subgrupos"
      ],
      "metadata": {
        "id": "huSBu3O8kmCB"
      }
    },
    {
      "cell_type": "code",
      "source": [
        "# Reemplazo y Subgrupos con Expresiones Regulares\n",
        "\n",
        "# Texto de ejemplo\n",
        "texto = \"Fecha de nacimiento: 01/05/1990.\"\n",
        "\n",
        "# Reemplazar el formato de fecha\n",
        "texto_modificado = re.sub(r'(\\d{2})/(\\d{2})/(\\d{4})', r'\\2-\\1-\\3', texto)\n",
        "\n",
        "print(\"Texto original:\" ,texto )\n",
        "print(\"Texto modificado:\", texto_modificado)\n"
      ],
      "metadata": {
        "colab": {
          "base_uri": "https://localhost:8080/"
        },
        "id": "lMLxyKhkkn2C",
        "outputId": "f165178f-4f8c-41e1-abbf-26892a0eab96"
      },
      "execution_count": 22,
      "outputs": [
        {
          "output_type": "stream",
          "name": "stdout",
          "text": [
            "Texto original: Fecha de nacimiento: 01/05/1990.\n",
            "Texto modificado: Fecha de nacimiento: 05-01-1990.\n"
          ]
        }
      ]
    },
    {
      "cell_type": "markdown",
      "source": [
        "## caso aplicativo\n",
        "Para este caso vamos a utilizar 'prompting' efectivos para expresiones regulares usando chatgpt"
      ],
      "metadata": {
        "id": "pN8qoX_vlG4J"
      }
    }
  ]
}