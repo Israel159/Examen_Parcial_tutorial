{
 "cells": [
  {
   "cell_type": "markdown",
   "metadata": {
    "id": "K60roTY4O2SE"
   },
   "source": [
    "# Introducción a Expresiones Regulares en Python con Jupyter Notebook"
   ]
  },
  {
   "cell_type": "markdown",
   "metadata": {
    "id": "u8h2SoJTijm3"
   },
   "source": [
    " ¿Qué son las expresiones regulares?\n",
    " Las expresiones regulares (regex) son patrones de búsqueda utilizados para coincidir con cadenas de texto.\n",
    " Son extremadamente poderosas para buscar, validar y manipular texto en Python y otros lenguajes.\n",
    " Entonces si queremos aprender usar expresiones regulares empezemos con lo más basico como buscar palabras en especificas, numeros de telefono, DNI, o ciertos atributos que nos interese, para luego aplicarlo en la practica con un caso en especifico y trabajar en ello. Vamos primero por el porque usarlo. 😎\n",
    "\n",
    " ¿Por qué usar expresiones regulares?\n",
    " - Búsqueda y filtrado eficiente de patrones en grandes cantidades de texto.\n",
    " - Validación de formatos de cadenas.\n",
    " - Manipulación avanzada de texto.\n",
    "\n",
    " Ejemplos de casos de uso:\n",
    " - Validar direcciones de correo electrónico.\n",
    " - Buscar y reemplazar patrones específicos en un documento.\n",
    " - Extraer información de datos estructurados.\n",
    "\n"
   ]
  },
  {
   "cell_type": "markdown",
   "metadata": {
    "id": "pkyJNJ8qjW1R"
   },
   "source": [
    " Sintaxis Básica de Expresiones Regulares\n",
    "\n",
    " En las expresiones regulares, algunos caracteres tienen significados especiales:\n",
    " - . (punto): Coincide con cualquier carácter excepto nueva línea.\n",
    " - ^: Coincide con el inicio de la cadena.\n",
    " - $: Coincide con el final de la cadena.\n",
    " - \\d: Coincide con cualquier dígito (equivalente a [0-9]).\n",
    " - \\w: Coincide con cualquier carácter alfanumérico (equivalente a [a-zA-Z0-9]).  \n",
    " \n",
    " Así tendremos muchos más carateres con diferente significado, vamos a explicar algunos de estos con ejemplos.😀  \n",
    " \n"
   ]
  },
  {
   "cell_type": "markdown",
   "metadata": {},
   "source": [
    "![Texto alternativo](artículo-15-octubre.jpg)"
   ]
  },
  {
   "cell_type": "markdown",
   "metadata": {},
   "source": [
    "Preguntemosle al chat gpt que patrones conoce  \n"
   ]
  },
  {
   "cell_type": "markdown",
   "metadata": {},
   "source": [
    "![Texto alternativo](1_py.jpg)"
   ]
  },
  {
   "cell_type": "markdown",
   "metadata": {},
   "source": [
    "Ejemplos:\n",
    " 1. El patrón \\d{3} coincidirá con tres dígitos consecutivos.\n",
    " "
   ]
  },
  {
   "cell_type": "code",
   "execution_count": 4,
   "metadata": {},
   "outputs": [
    {
     "name": "stdout",
     "output_type": "stream",
     "text": [
      "['123', '678']\n"
     ]
    }
   ],
   "source": [
    "import re\n",
    "\n",
    "texto = \"12345 678 90\"\n",
    "coincidencias = re.findall(r\"\\d{3}\", texto)\n",
    "print(coincidencias)  # Esto buscará grupos de tres dígitos consecutivos en el texto\n"
   ]
  },
  {
   "cell_type": "markdown",
   "metadata": {},
   "source": [
    "![Texto alternativo](2_py.jpg)"
   ]
  },
  {
   "cell_type": "markdown",
   "metadata": {},
   "source": [
    "2. \".\" (Punto): Coincide con cualquier carácter, excepto un salto de línea.\n"
   ]
  },
  {
   "cell_type": "code",
   "execution_count": 11,
   "metadata": {},
   "outputs": [
    {
     "name": "stdout",
     "output_type": "stream",
     "text": [
      "['H', 'o', 'l', 'a', ' ', 'm', 'u', 'n', 'd', 'o', '!']\n"
     ]
    }
   ],
   "source": [
    "texto = \"Hola mundo!\"\n",
    "coincidencias = re.findall(\".\", texto)\n",
    "print(coincidencias)  # Esto imprimirá cada carácter por separado\n"
   ]
  },
  {
   "cell_type": "code",
   "execution_count": 20,
   "metadata": {},
   "outputs": [
    {
     "name": "stdout",
     "output_type": "stream",
     "text": [
      "['mundo', 'mundo']\n"
     ]
    }
   ],
   "source": [
    "# tambien sirve si queremos buscar una palabra de esta manera\n",
    "texto = \"Hola mundo, buenos dias mundo!\"\n",
    "coincidencias = re.findall(\".undo\", texto)#solo reemplazando la primera letra de la palabra con un punto\n",
    "print(coincidencias)  # Esto imprimirá la palabra mundo cada vez que se use"
   ]
  },
  {
   "cell_type": "markdown",
   "metadata": {},
   "source": [
    "3. \"^\" (Acento circunflejo): Indica que la coincidencia debe ocurrir al principio de la cadena"
   ]
  },
  {
   "cell_type": "code",
   "execution_count": 23,
   "metadata": {},
   "outputs": [
    {
     "name": "stdout",
     "output_type": "stream",
     "text": [
      "Encontrado al principio\n",
      "La palabra 'Python' aparece 1 veces al principio de la cadena.\n"
     ]
    }
   ],
   "source": [
    "texto = \"Python es genial\"\n",
    "coincidencia = re.findall(\"^Python\", texto)\n",
    "if coincidencia:\n",
    "    print(\"Encontrado al principio\")\n",
    "else:\n",
    "    print(\"No encontrado al principio\")\n",
    "cantidad = len(coincidencia)\n",
    "print(f\"La palabra 'Python' aparece {cantidad} veces al principio de la cadena.\")"
   ]
  },
  {
   "cell_type": "markdown",
   "metadata": {},
   "source": [
    "4. \"$\" Indica que la coincidencia debe ocurrir al final de la cadena."
   ]
  },
  {
   "cell_type": "code",
   "execution_count": 7,
   "metadata": {},
   "outputs": [
    {
     "name": "stdout",
     "output_type": "stream",
     "text": [
      "La palabra 'genial' aparece 1 veces al final de la cadena.\n"
     ]
    }
   ],
   "source": [
    "\n",
    "texto = \"Python es genial\"\n",
    "coincidencias = re.findall(r\"genial$\", texto)\n",
    "\n",
    "cantidad = len(coincidencias)\n",
    "print(f\"La palabra 'genial' aparece {cantidad} veces al final de la cadena.\")\n",
    "\n"
   ]
  },
  {
   "cell_type": "markdown",
   "metadata": {},
   "source": [
    "![Texto alternativo](3_py.jpg)"
   ]
  },
  {
   "cell_type": "markdown",
   "metadata": {},
   "source": [
    "5. Ahora vamos con algo un poco mas complejo 😉\n",
    "Si queremos los numeros de telefono de un texto y ahorrarnos tiempo podemos hacer esto.\n"
   ]
  },
  {
   "cell_type": "code",
   "execution_count": 30,
   "metadata": {},
   "outputs": [
    {
     "name": "stdout",
     "output_type": "stream",
     "text": [
      "['123-456-7890', '985 895 235']\n"
     ]
    }
   ],
   "source": [
    "import re\n",
    "\n",
    "texto = \"Mi número es 123-456-7890 y el de mi amigo es 985 895 235\"\n",
    "\n",
    "patron_telefono = r\"\\b(?:\\d{3}[-.]?\\d{3}[-.]?\\d{4}|\\d{3} ?\\d{3} ?\\d{3})\\b\"\n",
    "\n",
    "numeros_telefono = re.findall(patron_telefono, texto)\n",
    "print(numeros_telefono)\n",
    "\n"
   ]
  },
  {
   "cell_type": "markdown",
   "metadata": {},
   "source": [
    "![Texto alternativo](4_py.jpg)"
   ]
  },
  {
   "cell_type": "markdown",
   "metadata": {},
   "source": [
    "En este ejemplo, el patrón **\\b(?:\\d{3}[-.]?\\d{3}[-.]?\\d{4}|\\d{3} ?\\d{3} ?\\d{3})\\b** busca números que tengan un formato común de teléfono, como 123-456-7890, 985 235, entre otros. Aquí está cómo funciona el patrón:  \n",
    "\n",
    "**\\b:** Coincide con límites de palabras para asegurarse de que coincida con números enteros.  \n",
    "\n",
    "**\\d{3}:** Busca tres dígitos.  \n",
    "\n",
    "**[-.]?:** Permite un guion o un punto como separador, pero el signo de interrogación hace que esta parte sea opcional.  \n",
    "\n",
    "**\\d{3}:** Busca otros tres dígitos.  \n",
    "\n",
    "**[-.]?:** Nuevamente, un guion o un punto como separador (opcional).  \n",
    "\n",
    "**\\d{3}:** Busca cuatro dígitos al final.  \n",
    "\n",
    "**\\b:** Otra coincidencia de límite de palabra.  \n",
    "\n",
    "Al ejecutar este código, findall() devolverá una lista con todos los números de teléfono encontrados en el texto.  \n",
    "\n",
    "Recuerda que este es un patrón genérico y puede no abarcar todos los formatos de números de teléfono. Si estás buscando números de teléfono en un formato específico o para una región determinada, es posible que necesites ajustar el patrón de la expresión regular."
   ]
  },
  {
   "cell_type": "markdown",
   "metadata": {},
   "source": [
    "**VAMOS CON ALGUNOS EJEMPLOS MÁS QUE PRACTICANDO SE APRENDE** 😄"
   ]
  },
  {
   "cell_type": "markdown",
   "metadata": {
    "id": "p1yTTATYjq1W"
   },
   "source": [
    "## Busqueda simple"
   ]
  },
  {
   "cell_type": "code",
   "execution_count": 19,
   "metadata": {
    "colab": {
     "base_uri": "https://localhost:8080/"
    },
    "id": "4bzgiPZ0jrQP",
    "outputId": "f869680b-468d-47e2-ae6f-7a2bd5d37855"
   },
   "outputs": [
    {
     "name": "stdout",
     "output_type": "stream",
     "text": [
      "Número encontrado: 25\n"
     ]
    }
   ],
   "source": [
    "# Búsqueda Simple con Expresiones Regulares\n",
    "\n",
    "import re\n",
    "\n",
    "# Texto de ejemplo\n",
    "texto = \"La temperatura actual es 25°C.\"\n",
    "\n",
    "# Buscar un número en el texto\n",
    "patron_numero = re.search(r'\\d+', texto)\n",
    "\n",
    "if patron_numero:\n",
    "    numero_encontrado = patron_numero.group()\n",
    "    print(f\"Número encontrado: {numero_encontrado}\")\n",
    "else:\n",
    "    print(\"No se encontró ningún número.\")\n"
   ]
  },
  {
   "cell_type": "markdown",
   "metadata": {
    "id": "vnG12ajjkJyU"
   },
   "source": [
    "## Coincidencias multiples"
   ]
  },
  {
   "cell_type": "code",
   "execution_count": 20,
   "metadata": {
    "colab": {
     "base_uri": "https://localhost:8080/"
    },
    "id": "ueXnt0s7kN8N",
    "outputId": "3aba1fc5-a422-49a3-e4b1-e9eae4f123cd"
   },
   "outputs": [
    {
     "name": "stdout",
     "output_type": "stream",
     "text": [
      "Números encontrados: ['123', '456', '789']\n"
     ]
    }
   ],
   "source": [
    "# Coincidencias Múltiples con Expresiones Regulares\n",
    "\n",
    "# Texto de ejemplo\n",
    "texto = \"Los números en el conjunto son: 123, 456, 789.\"\n",
    "\n",
    "# Buscar todos los números en el texto\n",
    "patron_numeros = re.findall(r'\\d+', texto)\n",
    "\n",
    "if patron_numeros:\n",
    "    print(f\"Números encontrados: {patron_numeros}\")\n",
    "else:\n",
    "    print(\"No se encontraron números.\")\n"
   ]
  },
  {
   "cell_type": "markdown",
   "metadata": {
    "id": "huSBu3O8kmCB"
   },
   "source": [
    "# Reemplazo en subgrupos"
   ]
  },
  {
   "cell_type": "code",
   "execution_count": 22,
   "metadata": {
    "colab": {
     "base_uri": "https://localhost:8080/"
    },
    "id": "lMLxyKhkkn2C",
    "outputId": "f165178f-4f8c-41e1-abbf-26892a0eab96"
   },
   "outputs": [
    {
     "name": "stdout",
     "output_type": "stream",
     "text": [
      "Texto original: Fecha de nacimiento: 01/05/1990.\n",
      "Texto modificado: Fecha de nacimiento: 05-01-1990.\n"
     ]
    }
   ],
   "source": [
    "# Reemplazo y Subgrupos con Expresiones Regulares\n",
    "\n",
    "# Texto de ejemplo\n",
    "texto = \"Fecha de nacimiento: 01/05/1990.\"\n",
    "\n",
    "# Reemplazar el formato de fecha\n",
    "texto_modificado = re.sub(r'(\\d{2})/(\\d{2})/(\\d{4})', r'\\2-\\1-\\3', texto)\n",
    "\n",
    "print(\"Texto original:\" ,texto )\n",
    "print(\"Texto modificado:\", texto_modificado)\n"
   ]
  },
  {
   "cell_type": "markdown",
   "metadata": {},
   "source": [
    "**Y si ahora nos dan un texto y nos piden que realizemos una busqueda del numero de las tarjetas de debito o credito que estan presentes para realizar un estudio estadistico del cuantas personas usan tarjeta de credito o debito en cierto periodo de tiempo en el banco, con fines de realizar un modelo de regresion, pues para ahorrar tiempo y no contar de uno en uno, usaremos expresiones regulares**\n"
   ]
  },
  {
   "cell_type": "markdown",
   "metadata": {},
   "source": [
    "**EMPECEMOS**😎"
   ]
  },
  {
   "cell_type": "markdown",
   "metadata": {
    "id": "pN8qoX_vlG4J"
   },
   "source": [
    "## caso aplicativo\n",
    "Para este caso vamos a utilizar 'prompting' efectivos para expresiones regulares usando chatgpt."
   ]
  },
  {
   "cell_type": "markdown",
   "metadata": {},
   "source": [
    "Leemos nuestro txt"
   ]
  },
  {
   "cell_type": "code",
   "execution_count": 69,
   "metadata": {},
   "outputs": [],
   "source": [
    "fichero = open('Banco-Interbank.txt','r')\n",
    "banco = fichero.readlines() \n",
    "fichero.close()\n",
    "\n"
   ]
  },
  {
   "cell_type": "code",
   "execution_count": 66,
   "metadata": {},
   "outputs": [],
   "source": [
    "# Convertir la lista a un string separado por espacios\n",
    "cadena = ' '.join(banco)\n",
    "\n",
    "\n"
   ]
  },
  {
   "cell_type": "markdown",
   "metadata": {},
   "source": [
    "Luego lo mas importante es especificar nuestro patron de busqueda"
   ]
  },
  {
   "cell_type": "code",
   "execution_count": 67,
   "metadata": {},
   "outputs": [
    {
     "name": "stdout",
     "output_type": "stream",
     "text": [
      "3815-7091-8657\n",
      "8166-3342-3172\n",
      "2929-1055-8233\n",
      "9275-7955-5730\n",
      "4126-2172-5648\n",
      "8383-1992-6501\n",
      "5768-5205-8473\n",
      "3444-1058-2618\n",
      "6409-7148-8417\n",
      "6079-2665-6580\n",
      "7402-5408-1202\n",
      "3594-8382-5515\n",
      "2129-8780-7420\n",
      "6840-2599-3652\n",
      "7270-9066-7819\n",
      "9438-5442-4676\n",
      "7624-3295-7607\n",
      "9012-1354-8249\n",
      "7747-7040-2966\n",
      "4562-1614-4370\n",
      "5324-4635-1338\n",
      "8482-8186-4120\n",
      "5126-5141-8935\n",
      "1409-9037-9471\n",
      "7865-4572-9526\n",
      "1867-8103-6285\n",
      "6024-3009-6422\n",
      "5502-3678-7120\n",
      "9070-8169-9773\n",
      "1776-6182-3183\n",
      "4919-1739-3343\n",
      "7032-6668-7080\n",
      "7992-8278-1755\n",
      "7996-9069-9169\n",
      "7234-9068-2912\n",
      "5599-7785-9101\n",
      "1004-1611-2011\n",
      "6091-3847-3997\n",
      "2946-9430-1830\n",
      "4227-4679-9053\n",
      "8419-6884-2413\n",
      "6203-1964-6261\n",
      "8599-5128-5103\n",
      "2087-6872-1882\n",
      "2111-3643-7597\n",
      "9993-7626-4772\n",
      "2103-2893-8524\n",
      "8548-7174-2336\n",
      "7475-7724-9792\n",
      "3146-9553-5345\n",
      "6634-5162-8548\n",
      "4481-6324-6600\n",
      "1093-3398-8953\n",
      "8131-6629-8692\n",
      "9206-9898-8663\n",
      "1203-1825-7161\n",
      "1278-3588-6492\n",
      "5564-1047-2145\n",
      "2329-5050-3498\n",
      "7632-9413-5103\n",
      "4164-2834-6730\n",
      "1269-7450-2743\n",
      "7139-3065-5600\n",
      "6829-1859-1985\n",
      "3426-8187-8092\n",
      "\n",
      "Se encontraron 65 números de tarjetas de crédito en el texto.\n"
     ]
    }
   ],
   "source": [
    "# Patrón para encontrar números de tarjetas de crédito con el formato especificado\n",
    "patron_tarjetas = r\"\\b\\d{4}-\\d{4}-\\d{4}\\b\"\n",
    "\n",
    "# Buscar coincidencias de números de tarjetas de crédito en el texto\n",
    "tarjetas_encontradas = re.findall(patron_tarjetas, cadena)\n",
    "\n",
    "# Mostrar los números de tarjetas de crédito encontrados\n",
    "for tarjeta in tarjetas_encontradas:\n",
    "    print(tarjeta)\n",
    "\n",
    "# Contar la cantidad de tarjetas de crédito encontradas\n",
    "cantidad_tarjetas = len(tarjetas_encontradas)\n",
    "print(f\"\\nSe encontraron {cantidad_tarjetas} números de tarjetas de crédito en el texto.\")"
   ]
  },
  {
   "cell_type": "markdown",
   "metadata": {},
   "source": [
    "![Texto alternativo](5_py.jpg)"
   ]
  },
  {
   "cell_type": "markdown",
   "metadata": {},
   "source": [
    "El chat gtp nos ayudo para obtener el patron que tienen estas tarjetas de credito asi aplicarlo, luego obtenemos los numeros de las tarjetas de credito o debito y la cantidad de clientes que estan presentes en el texto para tener una idea de cuantos clientes adquieren tarjetas en ese banco. Luego tambien se puede reconocer a cada cliente solo con su tarjeta de credito. Gracias 😏"
   ]
  },
  {
   "cell_type": "markdown",
   "metadata": {},
   "source": [
    "## CASO APLICATIVO 2:\n",
    "Tendremos un ejercicios adicional en la cual haremos uso del promptings efectivos para las expresiones regulares y haremos uso del chat GPT"
   ]
  },
  {
   "cell_type": "code",
   "execution_count": 16,
   "metadata": {},
   "outputs": [
    {
     "name": "stdout",
     "output_type": "stream",
     "text": [
      "La dirección de correo electrónico '...@lamolina.edu.pe' es válida.\n"
     ]
    }
   ],
   "source": [
    "import re\n",
    "\n",
    "def validar_correo_electronico(correo):\n",
    "    # Expresión regular para validar direcciones de correo electrónico\n",
    "    patron = r\"[a-zA-Z0-9._%+-]+@[a-zA-Z0-9.-]+\\.[a-zA-Z]{2,}\"\n",
    "\n",
    "    if re.match(patron, correo):\n",
    "        print(f\"La dirección de correo electrónico '{correo}' es válida.\")\n",
    "    else:\n",
    "        print(f\"La dirección de correo electrónico '{correo}' no es válida.\")\n",
    "\n",
    "# Ejemplo de uso:\n",
    "correo_ejemplo = \"...@lamolina.edu.pe\"\n",
    "validar_correo_electronico(correo_ejemplo)\n"
   ]
  },
  {
   "cell_type": "markdown",
   "metadata": {},
   "source": [
    "![Texto alternativo](GPT.png)"
   ]
  },
  {
   "cell_type": "code",
   "execution_count": 1,
   "metadata": {},
   "outputs": [
    {
     "name": "stdout",
     "output_type": "stream",
     "text": [
      "Correos electrónicos encontrados:\n",
      "hildahormazabal@hotmail.com\n",
      "miriamsian@hotmail.com\n",
      "jacob_1770@hotmail.com\n",
      "lpaz131@gmail.com\n",
      "mifcat@hotmail.com\n",
      "marlagonzale@hotmail.com\n",
      "mnnatsop_sede@yahoo.es\n",
      "mdlopez24@hotmail.com\n",
      "despinozapatel@hotmail.com\n",
      "info@wfmh.com\n",
      "monikaniederle@hotmail.com\n",
      "erica_lanas@yahoo.es\n",
      "marisolantigua@hotmail.com\n",
      "adr1054@gmail.com\n",
      "cosecodeni@yahoo.es\n",
      "amaliabr@hotmail.com\n",
      "peliptiu@gmail.com\n",
      "geovaldona@gmail.com\n",
      "jmerin.reig@gmail.com\n",
      "charomendiola@hotmail.com\n",
      "despujoljv@hotmail.com\n",
      "julio_valle_iscar@hotmail.com\n",
      "mnnatsop_sede@yahoo.es\n",
      "lola_40@hotmail.com\n",
      "irmandrea53@hotmail.com\n",
      "alejuarez_316@hotmail.com\n",
      "maritzadelepiani@hotmail.com\n",
      "mreyesherrera@gmail.com\n",
      "ivovega@yahoo.com\n",
      "ivan.salinasbarrios@gmail.com\n",
      "ioannys_15@hotmail.com\n",
      "jorgeenriqueescobar@latinmail.com\n",
      "marvinrabanales@hotmail.com\n",
      "rfsepulveda@gmail.com\n",
      "karinajjm@gmail.com\n",
      "blanri@hotmail.com\n",
      "marcofpn@hotmail.com\n",
      "marcelinobassett@hotmail.com\n",
      "lauraquirogavalpa1985@hotmail.com\n",
      "joselyn-monsalve@lycos.es\n",
      "karandare@gmail.com\n",
      "franciscpalma@gmail.com\n",
      "maleelizondo@hotmail.com\n",
      "mcanelos@vtr.net\n",
      "sto-scum@hotmail.com\n",
      "n@hotmail.com\n",
      "luzgarciaguzman@gmail.com\n",
      "atihnfa@yahoo.com\n",
      "cristina_ush@hotmail.com\n",
      "ruthkochenschub@hotmail.com\n",
      "aliciaecheveste@hotmail.com\n",
      "marion2008@yahoo.com\n",
      "edifornasin@hotmail.com\n",
      "edopenaval@gmail.com\n",
      "gerardo_sauri@hotmail.com\n",
      "grace0304@gmail.com\n",
      "sundesertroses@gmail.com\n",
      "luisbelloh@hotmail.com\n",
      "maella_32@hotmail.com\n",
      "josem.yac@gmail.com\n",
      "cijacuarel@yahoo.es\n",
      "inesaolima@hotmail.com\n",
      "miguelcolman@hotmail.com\n",
      "caratag@gmail.com\n",
      "marilyn_m3@hotmail.com\n",
      "martinamariafh@yahoo.com\n",
      "mariceleiriz@gmail.com\n",
      "enriquefaundez@gmail.com\n",
      "mariamarquesmargarida@gmail.com\n",
      "fonsykidss@yahoo.com\n",
      "centro.epifania@gmail.com\n",
      "delmyrecinosg@hotmail.com\n",
      "jorgeetoro@hotmail.com\n",
      "jafsdoc@yahoo.com\n",
      "luchito.venegas@gmail.com\n"
     ]
    }
   ],
   "source": [
    "import re\n",
    "\n",
    "def encontrar_correos_en_archivo(nombre_archivo):\n",
    "    # Expresión regular para validar direcciones de correo electrónico\n",
    "    patron_correo = r\"[a-zA-Z0-9._%+-]+@[a-zA-Z0-9.-]+\\.[a-zA-Z]{2,}\"\n",
    "\n",
    "    with open(nombre_archivo, 'r') as archivo:\n",
    "        contenido = archivo.read()\n",
    "        correos_encontrados = re.findall(patron_correo, contenido)\n",
    "\n",
    "    return correos_encontrados\n",
    "\n",
    "# Reemplaza 'nombre_del_archivo.txt' con el nombre de tu archivo\n",
    "archivo_ejemplo = 'Listado.txt'\n",
    "correos_encontrados = encontrar_correos_en_archivo(archivo_ejemplo)\n",
    "\n",
    "# Imprime los correos electrónicos encontrados\n",
    "print(\"Correos electrónicos encontrados:\")\n",
    "for correo in correos_encontrados:\n",
    "    print(correo)"
   ]
  }
 ],
 "metadata": {
  "colab": {
   "provenance": []
  },
  "kernelspec": {
   "display_name": "Python 3 (ipykernel)",
   "language": "python",
   "name": "python3"
  },
  "language_info": {
   "codemirror_mode": {
    "name": "ipython",
    "version": 3
   },
   "file_extension": ".py",
   "mimetype": "text/x-python",
   "name": "python",
   "nbconvert_exporter": "python",
   "pygments_lexer": "ipython3",
   "version": "3.11.4"
  }
 },
 "nbformat": 4,
 "nbformat_minor": 1
}
